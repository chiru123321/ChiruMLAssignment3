{
  "cells": [
    {
      "cell_type": "code",
      "execution_count": 1,
      "id": "91b506a9",
      "metadata": {
        "id": "91b506a9"
      },
      "outputs": [],
      "source": [
        "import pandas as pd"
      ]
    },
    {
      "cell_type": "code",
      "execution_count": 3,
      "id": "132f1547",
      "metadata": {
        "id": "132f1547"
      },
      "outputs": [],
      "source": [
        "df = pd.read_csv('/content/sample_data/data.csv')"
      ]
    },
    {
      "cell_type": "code",
      "execution_count": null,
      "id": "7ae52f0e",
      "metadata": {
        "id": "7ae52f0e",
        "outputId": "c00e2472-13f8-4363-d745-46e944d59f25"
      },
      "outputs": [
        {
          "name": "stdout",
          "output_type": "stream",
          "text": [
            "         Duration       Pulse    Maxpulse     Calories\n",
            "count  169.000000  169.000000  169.000000   164.000000\n",
            "mean    63.846154  107.461538  134.047337   375.790244\n",
            "std     42.299949   14.510259   16.450434   266.379919\n",
            "min     15.000000   80.000000  100.000000    50.300000\n",
            "25%     45.000000  100.000000  124.000000   250.925000\n",
            "50%     60.000000  105.000000  131.000000   318.600000\n",
            "75%     60.000000  111.000000  141.000000   387.600000\n",
            "max    300.000000  159.000000  184.000000  1860.400000\n"
          ]
        }
      ],
      "source": [
        "print(df.describe())"
      ]
    },
    {
      "cell_type": "code",
      "execution_count": 4,
      "id": "4b906e54",
      "metadata": {
        "colab": {
          "base_uri": "https://localhost:8080/"
        },
        "id": "4b906e54",
        "outputId": "fa8963c2-f4e9-439a-998f-88c3fe5a7f2b"
      },
      "outputs": [
        {
          "output_type": "stream",
          "name": "stdout",
          "text": [
            "Duration    0\n",
            "Pulse       0\n",
            "Maxpulse    0\n",
            "Calories    5\n",
            "dtype: int64\n"
          ]
        }
      ],
      "source": [
        "print(df.isnull().sum())"
      ]
    },
    {
      "cell_type": "code",
      "execution_count": 5,
      "id": "6fe491b0",
      "metadata": {
        "id": "6fe491b0"
      },
      "outputs": [],
      "source": [
        "df.fillna(df.mean(), inplace=True)"
      ]
    },
    {
      "cell_type": "code",
      "execution_count": 6,
      "id": "5306155b",
      "metadata": {
        "colab": {
          "base_uri": "https://localhost:8080/"
        },
        "id": "5306155b",
        "outputId": "e6edcb05-635f-477c-d0c7-a0317960206a"
      },
      "outputs": [
        {
          "output_type": "stream",
          "name": "stdout",
          "text": [
            "         Duration     Calories\n",
            "min     15.000000    50.300000\n",
            "max    300.000000  1860.400000\n",
            "count  169.000000   169.000000\n",
            "mean    63.846154   375.790244\n"
          ]
        }
      ],
      "source": [
        "aggregated_data = df[['Duration', 'Calories']].agg(['min', 'max', 'count', 'mean'])\n",
        "print(aggregated_data)"
      ]
    },
    {
      "cell_type": "code",
      "execution_count": 7,
      "id": "8dcbcae3",
      "metadata": {
        "colab": {
          "base_uri": "https://localhost:8080/"
        },
        "id": "8dcbcae3",
        "outputId": "2db862ba-53e1-4517-b5c2-87c42efd301f"
      },
      "outputs": [
        {
          "output_type": "stream",
          "name": "stdout",
          "text": [
            "     Duration  Pulse  Maxpulse  Calories\n",
            "51         80    123       146     643.1\n",
            "62        160    109       135     853.0\n",
            "65        180     90       130     800.4\n",
            "66        150    105       135     873.4\n",
            "67        150    107       130     816.0\n",
            "72         90    100       127     700.0\n",
            "73        150     97       127     953.2\n",
            "75         90     98       125     563.2\n",
            "78        120    100       130     500.4\n",
            "83        120    100       130     500.0\n",
            "90        180    101       127     600.1\n",
            "99         90     93       124     604.1\n",
            "101        90     90       110     500.0\n",
            "102        90     90       100     500.0\n",
            "103        90     90       100     500.4\n",
            "106       180     90       120     800.3\n",
            "108        90     90       120     500.3\n"
          ]
        }
      ],
      "source": [
        "filtered_data = df[(df['Calories'] >= 500) & (df['Calories'] <= 1000)]\n",
        "print(filtered_data)"
      ]
    },
    {
      "cell_type": "code",
      "execution_count": 8,
      "id": "f3300e79",
      "metadata": {
        "colab": {
          "base_uri": "https://localhost:8080/"
        },
        "id": "f3300e79",
        "outputId": "b649e310-10eb-48fa-d39a-f268968f7f11"
      },
      "outputs": [
        {
          "output_type": "stream",
          "name": "stdout",
          "text": [
            "     Duration  Pulse  Maxpulse  Calories\n",
            "65        180     90       130     800.4\n",
            "70        150     97       129    1115.0\n",
            "73        150     97       127     953.2\n",
            "75         90     98       125     563.2\n",
            "99         90     93       124     604.1\n",
            "103        90     90       100     500.4\n",
            "106       180     90       120     800.3\n",
            "108        90     90       120     500.3\n"
          ]
        }
      ],
      "source": [
        "filtered_data2 = df[(df['Calories'] > 500) & (df['Pulse'] < 100)]\n",
        "print(filtered_data2)"
      ]
    },
    {
      "cell_type": "code",
      "execution_count": 9,
      "id": "c814e147",
      "metadata": {
        "id": "c814e147"
      },
      "outputs": [],
      "source": [
        "df_modified = df.drop('Maxpulse', axis=1)"
      ]
    },
    {
      "cell_type": "code",
      "execution_count": 10,
      "id": "aa35a99a",
      "metadata": {
        "id": "aa35a99a"
      },
      "outputs": [],
      "source": [
        "df.drop('Maxpulse', axis=1, inplace=True)"
      ]
    },
    {
      "cell_type": "code",
      "execution_count": 11,
      "id": "3375c00c",
      "metadata": {
        "id": "3375c00c"
      },
      "outputs": [],
      "source": [
        "df['Calories'] = df['Calories'].astype(int)"
      ]
    },
    {
      "cell_type": "code",
      "execution_count": null,
      "id": "e7f6b703",
      "metadata": {
        "id": "e7f6b703"
      },
      "outputs": [],
      "source": []
    }
  ],
  "metadata": {
    "kernelspec": {
      "display_name": "Python 3 (ipykernel)",
      "language": "python",
      "name": "python3"
    },
    "language_info": {
      "codemirror_mode": {
        "name": "ipython",
        "version": 3
      },
      "file_extension": ".py",
      "mimetype": "text/x-python",
      "name": "python",
      "nbconvert_exporter": "python",
      "pygments_lexer": "ipython3",
      "version": "3.10.9"
    },
    "colab": {
      "provenance": []
    }
  },
  "nbformat": 4,
  "nbformat_minor": 5
}